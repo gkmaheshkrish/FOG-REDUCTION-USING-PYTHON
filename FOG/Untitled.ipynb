{
 "cells": [
  {
   "cell_type": "code",
   "execution_count": 2,
   "metadata": {},
   "outputs": [
    {
     "ename": "SyntaxError",
     "evalue": "invalid syntax (<ipython-input-2-5b4cfccc6040>, line 1)",
     "output_type": "error",
     "traceback": [
      "\u001b[1;36m  File \u001b[1;32m\"<ipython-input-2-5b4cfccc6040>\"\u001b[1;36m, line \u001b[1;32m1\u001b[0m\n\u001b[1;33m    python add_fog.py\u001b[0m\n\u001b[1;37m                 ^\u001b[0m\n\u001b[1;31mSyntaxError\u001b[0m\u001b[1;31m:\u001b[0m invalid syntax\n"
     ]
    }
   ],
   "source": [
    "python add_fog.py\n"
   ]
  },
  {
   "cell_type": "code",
   "execution_count": 2,
   "metadata": {},
   "outputs": [
    {
     "ename": "ModuleNotFoundError",
     "evalue": "No module named 'cv2'",
     "output_type": "error",
     "traceback": [
      "\u001b[1;31m---------------------------------------------------------------------------\u001b[0m",
      "\u001b[1;31mModuleNotFoundError\u001b[0m                       Traceback (most recent call last)",
      "\u001b[1;32m<ipython-input-2-fe5409e1e3c8>\u001b[0m in \u001b[0;36m<module>\u001b[1;34m()\u001b[0m\n\u001b[0;32m      1\u001b[0m \u001b[0mvideo_src\u001b[0m\u001b[1;33m=\u001b[0m\u001b[1;34m\"./Desktop/PROJECTS/GDC-Hackathon/FOG/video.mp4\"\u001b[0m\u001b[1;33m\u001b[0m\u001b[0m\n\u001b[0;32m      2\u001b[0m \u001b[0mfog\u001b[0m\u001b[1;33m=\u001b[0m\u001b[1;34m\"./Desktop/PROJECTS/GDC-Hackathon/FOG/ezgif.com-crop.mp4\"\u001b[0m\u001b[1;33m\u001b[0m\u001b[0m\n\u001b[1;32m----> 3\u001b[1;33m \u001b[1;32mimport\u001b[0m \u001b[0mcv2\u001b[0m\u001b[1;33m\u001b[0m\u001b[0m\n\u001b[0m\u001b[0;32m      4\u001b[0m \u001b[1;32mimport\u001b[0m \u001b[0mnumpy\u001b[0m \u001b[1;32mas\u001b[0m \u001b[0mnp\u001b[0m\u001b[1;33m\u001b[0m\u001b[0m\n\u001b[0;32m      5\u001b[0m \u001b[0mvideo\u001b[0m\u001b[1;33m=\u001b[0m\u001b[0mcv2\u001b[0m\u001b[1;33m.\u001b[0m\u001b[0mVideoCapture\u001b[0m\u001b[1;33m(\u001b[0m\u001b[0mvideo_src\u001b[0m\u001b[1;33m)\u001b[0m\u001b[1;33m\u001b[0m\u001b[0m\n",
      "\u001b[1;31mModuleNotFoundError\u001b[0m: No module named 'cv2'"
     ]
    }
   ],
   "source": [
    "video_src=\"./Desktop/PROJECTS/GDC-Hackathon/FOG/video.mp4\"\n",
    "fog=\"./Desktop/PROJECTS/GDC-Hackathon/FOG/ezgif.com-crop.mp4\"\n",
    "import cv2\n",
    "import numpy as np\n",
    "video=cv2.VideoCapture(video_src)\n",
    "fog_video=cv2.VideoCapture(fog)\n",
    "shape=None\n",
    "fog_frames=[]\n",
    "\n",
    "while(video.isOpened()):\n",
    "\tflag,frame1=video.read()\n",
    "\tshape=frame1.shape\n",
    "\tbreak\n",
    "print(shape)\n",
    "\n",
    "while(fog_video.isOpened()):\n",
    "\tflag,frame=fog_video.read()\n",
    "\tif flag:\n",
    "\t\tframe=cv2.resize(frame,(shape[1],shape[0]))\n",
    "\t\tfog_frames.append(frame)\n",
    "\telse:\n",
    "\t\tbreak\n",
    "count=0\n",
    "alpha=0.8\n",
    "# Define the codec and create VideoWriter object\n",
    "fourcc = cv2.VideoWriter_fourcc(*'XVID')\n",
    "print(shape)\n",
    "fourcc = cv2.VideoWriter_fourcc(*'XVID')\n",
    "out = cv2.VideoWriter('output.avi',fourcc, 20.0, (shape[0],shape[1]),True)\n",
    "\n",
    "while(video.isOpened()):\n",
    "\tflag,frame1=video.read()\n",
    "\tif flag:\n",
    "\t\tif(count<len(fog_frames)-1):\n",
    "\t\t\t# apply the overlay\n",
    "\t\t\tcv2.addWeighted(fog_frames[count], alpha, frame1, 1 - alpha,0, frame1)\n",
    "\t\tcount+=1\n",
    "\t\t# write the flipped frame\n",
    "\t\tout.write(frame1)\n",
    "\t\tcv2.imshow('frame',frame1)\n",
    "\t\tif cv2.waitKey(1) & 0xFF == ord('q'):\n",
    "\t\t\tbreak\n",
    "\telse:\n",
    "\t\tbreak\n",
    "out.release()\n",
    "cv2.destroyAllWindows()\n",
    "print(len(fog_frames))\n",
    "\n"
   ]
  },
  {
   "cell_type": "code",
   "execution_count": 3,
   "metadata": {},
   "outputs": [
    {
     "ename": "ModuleNotFoundError",
     "evalue": "No module named 'cv2'",
     "output_type": "error",
     "traceback": [
      "\u001b[1;31m---------------------------------------------------------------------------\u001b[0m",
      "\u001b[1;31mModuleNotFoundError\u001b[0m                       Traceback (most recent call last)",
      "\u001b[1;32m<ipython-input-3-fe5409e1e3c8>\u001b[0m in \u001b[0;36m<module>\u001b[1;34m()\u001b[0m\n\u001b[0;32m      1\u001b[0m \u001b[0mvideo_src\u001b[0m\u001b[1;33m=\u001b[0m\u001b[1;34m\"./Desktop/PROJECTS/GDC-Hackathon/FOG/video.mp4\"\u001b[0m\u001b[1;33m\u001b[0m\u001b[0m\n\u001b[0;32m      2\u001b[0m \u001b[0mfog\u001b[0m\u001b[1;33m=\u001b[0m\u001b[1;34m\"./Desktop/PROJECTS/GDC-Hackathon/FOG/ezgif.com-crop.mp4\"\u001b[0m\u001b[1;33m\u001b[0m\u001b[0m\n\u001b[1;32m----> 3\u001b[1;33m \u001b[1;32mimport\u001b[0m \u001b[0mcv2\u001b[0m\u001b[1;33m\u001b[0m\u001b[0m\n\u001b[0m\u001b[0;32m      4\u001b[0m \u001b[1;32mimport\u001b[0m \u001b[0mnumpy\u001b[0m \u001b[1;32mas\u001b[0m \u001b[0mnp\u001b[0m\u001b[1;33m\u001b[0m\u001b[0m\n\u001b[0;32m      5\u001b[0m \u001b[0mvideo\u001b[0m\u001b[1;33m=\u001b[0m\u001b[0mcv2\u001b[0m\u001b[1;33m.\u001b[0m\u001b[0mVideoCapture\u001b[0m\u001b[1;33m(\u001b[0m\u001b[0mvideo_src\u001b[0m\u001b[1;33m)\u001b[0m\u001b[1;33m\u001b[0m\u001b[0m\n",
      "\u001b[1;31mModuleNotFoundError\u001b[0m: No module named 'cv2'"
     ]
    }
   ],
   "source": [
    "video_src=\"./Desktop/PROJECTS/GDC-Hackathon/FOG/video.mp4\"\n",
    "fog=\"./Desktop/PROJECTS/GDC-Hackathon/FOG/ezgif.com-crop.mp4\"\n",
    "import cv2\n",
    "import numpy as np\n",
    "video=cv2.VideoCapture(video_src)\n",
    "fog_video=cv2.VideoCapture(fog)\n",
    "shape=None\n",
    "fog_frames=[]\n",
    "\n",
    "while(video.isOpened()):\n",
    "\tflag,frame1=video.read()\n",
    "\tshape=frame1.shape\n",
    "\tbreak\n",
    "print(shape)\n",
    "\n",
    "while(fog_video.isOpened()):\n",
    "\tflag,frame=fog_video.read()\n",
    "\tif flag:\n",
    "\t\tframe=cv2.resize(frame,(shape[1],shape[0]))\n",
    "\t\tfog_frames.append(frame)\n",
    "\telse:\n",
    "\t\tbreak\n",
    "count=0\n",
    "alpha=0.8\n",
    "# Define the codec and create VideoWriter object\n",
    "fourcc = cv2.VideoWriter_fourcc(*'XVID')\n",
    "print(shape)\n",
    "fourcc = cv2.VideoWriter_fourcc(*'XVID')\n",
    "out = cv2.VideoWriter('output.avi',fourcc, 20.0, (shape[0],shape[1]),True)\n",
    "\n",
    "while(video.isOpened()):\n",
    "\tflag,frame1=video.read()\n",
    "\tif flag:\n",
    "\t\tif(count<len(fog_frames)-1):\n",
    "\t\t\t# apply the overlay\n",
    "\t\t\tcv2.addWeighted(fog_frames[count], alpha, frame1, 1 - alpha,0, frame1)\n",
    "\t\tcount+=1\n",
    "\t\t# write the flipped frame\n",
    "\t\tout.write(frame1)\n",
    "\t\tcv2.imshow('frame',frame1)\n",
    "\t\tif cv2.waitKey(1) & 0xFF == ord('q'):\n",
    "\t\t\tbreak\n",
    "\telse:\n",
    "\t\tbreak\n",
    "out.release()\n",
    "cv2.destroyAllWindows()\n",
    "print(len(fog_frames))\n"
   ]
  },
  {
   "cell_type": "code",
   "execution_count": null,
   "metadata": {},
   "outputs": [],
   "source": []
  }
 ],
 "metadata": {
  "kernelspec": {
   "display_name": "Python 3",
   "language": "python",
   "name": "python3"
  },
  "language_info": {
   "codemirror_mode": {
    "name": "ipython",
    "version": 3
   },
   "file_extension": ".py",
   "mimetype": "text/x-python",
   "name": "python",
   "nbconvert_exporter": "python",
   "pygments_lexer": "ipython3",
   "version": "3.7.0"
  }
 },
 "nbformat": 4,
 "nbformat_minor": 2
}
